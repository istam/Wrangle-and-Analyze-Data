{
 "cells": [
  {
   "cell_type": "markdown",
   "metadata": {},
   "source": [
    "# Wrangler and Analyse data"
   ]
  },
  {
   "cell_type": "markdown",
   "metadata": {},
   "source": [
    "### by Istam Kulliev"
   ]
  },
  {
   "cell_type": "markdown",
   "metadata": {},
   "source": [
    "# Introduction"
   ]
  },
  {
   "cell_type": "markdown",
   "metadata": {},
   "source": [
    " The purpose of the study was to determine the rating based on the likes collected from dogs on Twitter.\n",
    " \n",
    " Based on this database, the dog ratings were analyzed. It tracked the different breeds of dogs available on Twitter and their ratings."
   ]
  },
  {
   "cell_type": "markdown",
   "metadata": {},
   "source": [
    "My tasks in this project are as follows:\n",
    "-\tData wrangling, which consists of:\n",
    "\tGathering data (downloadable file in the Resources tab in the left most panel of your classroom and linked in step 1 below).\n",
    "-\tAssessing data\n",
    "-\tCleaning data\n",
    "-\tStoring, analyzing, and visualizing your wrangled data\n",
    "-\tReporting on \n",
    "\n",
    "1) data wrangling efforts\n",
    "\n",
    "2) data analyses and visualizations\n"
   ]
  },
  {
   "cell_type": "markdown",
   "metadata": {},
   "source": [
    "### Gathering data"
   ]
  },
  {
   "cell_type": "markdown",
   "metadata": {},
   "source": [
    "The WeRateDogs Twitter archive is provided in twitter_archive_enhanced.csv. We collect the necessary data from this database.\n",
    "\n",
    "Use the Requests library Udacity's servers and should be downloaded programmatically the following URL:\n",
    "\n",
    "https://d17h27t6h515a5.cloudfront.net/topher/2017/August/599fd2ad_image-predictions/image-predictions.tsv\n",
    "\n",
    "Using query the Twitter API for each tweet's JSON data using Python's Tweepy library and store each tweet's entire set of JSON data.\n",
    "\n"
   ]
  },
  {
   "cell_type": "code",
   "execution_count": 12,
   "metadata": {},
   "outputs": [],
   "source": [
    "#Import all packages need\n",
    "import pandas as pd\n",
    "import numpy as np\n",
    "import matplotlib.pyplot as plt\n",
    "%matplotlib inline\n",
    "import requests\n",
    "import re\n",
    "import json\n",
    "import time\n",
    "import datetime as dt\n",
    "import seaborn as sb\n",
    "from IPython.display import Image\n",
    "import tweepy"
   ]
  },
  {
   "cell_type": "code",
   "execution_count": 13,
   "metadata": {},
   "outputs": [],
   "source": [
    "# read csv file and information about data \n",
    "df = pd.read_csv('twitter-archive-enhanced.csv')"
   ]
  },
  {
   "cell_type": "code",
   "execution_count": 14,
   "metadata": {},
   "outputs": [
    {
     "data": {
      "text/html": [
       "<div>\n",
       "<style scoped>\n",
       "    .dataframe tbody tr th:only-of-type {\n",
       "        vertical-align: middle;\n",
       "    }\n",
       "\n",
       "    .dataframe tbody tr th {\n",
       "        vertical-align: top;\n",
       "    }\n",
       "\n",
       "    .dataframe thead th {\n",
       "        text-align: right;\n",
       "    }\n",
       "</style>\n",
       "<table border=\"1\" class=\"dataframe\">\n",
       "  <thead>\n",
       "    <tr style=\"text-align: right;\">\n",
       "      <th></th>\n",
       "      <th>tweet_id</th>\n",
       "      <th>in_reply_to_status_id</th>\n",
       "      <th>in_reply_to_user_id</th>\n",
       "      <th>timestamp</th>\n",
       "      <th>source</th>\n",
       "      <th>text</th>\n",
       "      <th>retweeted_status_id</th>\n",
       "      <th>retweeted_status_user_id</th>\n",
       "      <th>retweeted_status_timestamp</th>\n",
       "      <th>expanded_urls</th>\n",
       "      <th>rating_numerator</th>\n",
       "      <th>rating_denominator</th>\n",
       "      <th>name</th>\n",
       "      <th>doggo</th>\n",
       "      <th>floofer</th>\n",
       "      <th>pupper</th>\n",
       "      <th>puppo</th>\n",
       "    </tr>\n",
       "  </thead>\n",
       "  <tbody>\n",
       "    <tr>\n",
       "      <th>0</th>\n",
       "      <td>892420643555336193</td>\n",
       "      <td>NaN</td>\n",
       "      <td>NaN</td>\n",
       "      <td>2017-08-01 16:23:56 +0000</td>\n",
       "      <td>&lt;a href=\"http://twitter.com/download/iphone\" r...</td>\n",
       "      <td>This is Phineas. He's a mystical boy. Only eve...</td>\n",
       "      <td>NaN</td>\n",
       "      <td>NaN</td>\n",
       "      <td>NaN</td>\n",
       "      <td>https://twitter.com/dog_rates/status/892420643...</td>\n",
       "      <td>13</td>\n",
       "      <td>10</td>\n",
       "      <td>Phineas</td>\n",
       "      <td>None</td>\n",
       "      <td>None</td>\n",
       "      <td>None</td>\n",
       "      <td>None</td>\n",
       "    </tr>\n",
       "    <tr>\n",
       "      <th>1</th>\n",
       "      <td>892177421306343426</td>\n",
       "      <td>NaN</td>\n",
       "      <td>NaN</td>\n",
       "      <td>2017-08-01 00:17:27 +0000</td>\n",
       "      <td>&lt;a href=\"http://twitter.com/download/iphone\" r...</td>\n",
       "      <td>This is Tilly. She's just checking pup on you....</td>\n",
       "      <td>NaN</td>\n",
       "      <td>NaN</td>\n",
       "      <td>NaN</td>\n",
       "      <td>https://twitter.com/dog_rates/status/892177421...</td>\n",
       "      <td>13</td>\n",
       "      <td>10</td>\n",
       "      <td>Tilly</td>\n",
       "      <td>None</td>\n",
       "      <td>None</td>\n",
       "      <td>None</td>\n",
       "      <td>None</td>\n",
       "    </tr>\n",
       "  </tbody>\n",
       "</table>\n",
       "</div>"
      ],
      "text/plain": [
       "             tweet_id  in_reply_to_status_id  in_reply_to_user_id  \\\n",
       "0  892420643555336193                    NaN                  NaN   \n",
       "1  892177421306343426                    NaN                  NaN   \n",
       "\n",
       "                   timestamp  \\\n",
       "0  2017-08-01 16:23:56 +0000   \n",
       "1  2017-08-01 00:17:27 +0000   \n",
       "\n",
       "                                              source  \\\n",
       "0  <a href=\"http://twitter.com/download/iphone\" r...   \n",
       "1  <a href=\"http://twitter.com/download/iphone\" r...   \n",
       "\n",
       "                                                text  retweeted_status_id  \\\n",
       "0  This is Phineas. He's a mystical boy. Only eve...                  NaN   \n",
       "1  This is Tilly. She's just checking pup on you....                  NaN   \n",
       "\n",
       "   retweeted_status_user_id retweeted_status_timestamp  \\\n",
       "0                       NaN                        NaN   \n",
       "1                       NaN                        NaN   \n",
       "\n",
       "                                       expanded_urls  rating_numerator  \\\n",
       "0  https://twitter.com/dog_rates/status/892420643...                13   \n",
       "1  https://twitter.com/dog_rates/status/892177421...                13   \n",
       "\n",
       "   rating_denominator     name doggo floofer pupper puppo  \n",
       "0                  10  Phineas  None    None   None  None  \n",
       "1                  10    Tilly  None    None   None  None  "
      ]
     },
     "execution_count": 14,
     "metadata": {},
     "output_type": "execute_result"
    }
   ],
   "source": [
    "df.head(2)"
   ]
  },
  {
   "cell_type": "code",
   "execution_count": 15,
   "metadata": {},
   "outputs": [
    {
     "name": "stdout",
     "output_type": "stream",
     "text": [
      "Rows: 2356\n",
      "Columns: 17\n"
     ]
    }
   ],
   "source": [
    "# Inforamtion about data twitter-archive-enhanced.csv.\n",
    "print(\"Rows: {}\\nColumns: {}\".\n",
    "      format(*df.shape))"
   ]
  },
  {
   "cell_type": "code",
   "execution_count": 16,
   "metadata": {},
   "outputs": [
    {
     "name": "stdout",
     "output_type": "stream",
     "text": [
      "<class 'pandas.core.frame.DataFrame'>\n",
      "RangeIndex: 2356 entries, 0 to 2355\n",
      "Data columns (total 17 columns):\n",
      " #   Column                      Non-Null Count  Dtype  \n",
      "---  ------                      --------------  -----  \n",
      " 0   tweet_id                    2356 non-null   int64  \n",
      " 1   in_reply_to_status_id       78 non-null     float64\n",
      " 2   in_reply_to_user_id         78 non-null     float64\n",
      " 3   timestamp                   2356 non-null   object \n",
      " 4   source                      2356 non-null   object \n",
      " 5   text                        2356 non-null   object \n",
      " 6   retweeted_status_id         181 non-null    float64\n",
      " 7   retweeted_status_user_id    181 non-null    float64\n",
      " 8   retweeted_status_timestamp  181 non-null    object \n",
      " 9   expanded_urls               2297 non-null   object \n",
      " 10  rating_numerator            2356 non-null   int64  \n",
      " 11  rating_denominator          2356 non-null   int64  \n",
      " 12  name                        2356 non-null   object \n",
      " 13  doggo                       2356 non-null   object \n",
      " 14  floofer                     2356 non-null   object \n",
      " 15  pupper                      2356 non-null   object \n",
      " 16  puppo                       2356 non-null   object \n",
      "dtypes: float64(4), int64(3), object(10)\n",
      "memory usage: 313.0+ KB\n"
     ]
    }
   ],
   "source": [
    "df.info()"
   ]
  },
  {
   "cell_type": "markdown",
   "metadata": {},
   "source": [
    "This data consists of a total of 2356 rows and 17 columns. "
   ]
  },
  {
   "cell_type": "code",
   "execution_count": 17,
   "metadata": {},
   "outputs": [
    {
     "data": {
      "text/plain": [
       "Index(['tweet_id', 'in_reply_to_status_id', 'in_reply_to_user_id', 'timestamp',\n",
       "       'source', 'text', 'retweeted_status_id', 'retweeted_status_user_id',\n",
       "       'retweeted_status_timestamp', 'expanded_urls', 'rating_numerator',\n",
       "       'rating_denominator', 'name', 'doggo', 'floofer', 'pupper', 'puppo'],\n",
       "      dtype='object')"
      ]
     },
     "execution_count": 17,
     "metadata": {},
     "output_type": "execute_result"
    }
   ],
   "source": [
    "# Information about columns the dataset\n",
    "df.columns"
   ]
  },
  {
   "cell_type": "code",
   "execution_count": 18,
   "metadata": {},
   "outputs": [
    {
     "data": {
      "text/plain": [
       "tweet_id                      2356\n",
       "in_reply_to_status_id           77\n",
       "in_reply_to_user_id             31\n",
       "timestamp                     2356\n",
       "source                           4\n",
       "text                          2356\n",
       "retweeted_status_id            181\n",
       "retweeted_status_user_id        25\n",
       "retweeted_status_timestamp     181\n",
       "expanded_urls                 2218\n",
       "rating_numerator                40\n",
       "rating_denominator              18\n",
       "name                           957\n",
       "doggo                            2\n",
       "floofer                          2\n",
       "pupper                           2\n",
       "puppo                            2\n",
       "dtype: int64"
      ]
     },
     "execution_count": 18,
     "metadata": {},
     "output_type": "execute_result"
    }
   ],
   "source": [
    "# Print the number of unique values for each variable.\n",
    "df.nunique()"
   ]
  },
  {
   "cell_type": "markdown",
   "metadata": {},
   "source": [
    "###  Analisys image-predictions"
   ]
  },
  {
   "cell_type": "markdown",
   "metadata": {},
   "source": [
    "#### Download programmatically using the Requests library and the following URL: https://d17h27t6h515a5.cloudfront.net/topher/2017/August/599fd2ad_image-predictions/image-predictions.tsv"
   ]
  },
  {
   "cell_type": "code",
   "execution_count": 19,
   "metadata": {},
   "outputs": [],
   "source": [
    "# Put contents of the downloaded file into a data frame, using the read_csv-function. \n",
    "# A tsv-file differs only by the separator from a csv-file.\n",
    "# Information about tweet image prediction\n",
    "\n",
    "url = 'https://d17h27t6h515a5.cloudfront.net/topher/2017/August/599fd2ad_image-predictions/image-predictions.tsv'\n",
    "df_image_predictions = pd.read_csv(url, sep = '\\t')"
   ]
  },
  {
   "cell_type": "code",
   "execution_count": 20,
   "metadata": {},
   "outputs": [
    {
     "data": {
      "text/html": [
       "<div>\n",
       "<style scoped>\n",
       "    .dataframe tbody tr th:only-of-type {\n",
       "        vertical-align: middle;\n",
       "    }\n",
       "\n",
       "    .dataframe tbody tr th {\n",
       "        vertical-align: top;\n",
       "    }\n",
       "\n",
       "    .dataframe thead th {\n",
       "        text-align: right;\n",
       "    }\n",
       "</style>\n",
       "<table border=\"1\" class=\"dataframe\">\n",
       "  <thead>\n",
       "    <tr style=\"text-align: right;\">\n",
       "      <th></th>\n",
       "      <th>tweet_id</th>\n",
       "      <th>jpg_url</th>\n",
       "      <th>img_num</th>\n",
       "      <th>p1</th>\n",
       "      <th>p1_conf</th>\n",
       "      <th>p1_dog</th>\n",
       "      <th>p2</th>\n",
       "      <th>p2_conf</th>\n",
       "      <th>p2_dog</th>\n",
       "      <th>p3</th>\n",
       "      <th>p3_conf</th>\n",
       "      <th>p3_dog</th>\n",
       "    </tr>\n",
       "  </thead>\n",
       "  <tbody>\n",
       "    <tr>\n",
       "      <th>0</th>\n",
       "      <td>666020888022790149</td>\n",
       "      <td>https://pbs.twimg.com/media/CT4udn0WwAA0aMy.jpg</td>\n",
       "      <td>1</td>\n",
       "      <td>Welsh_springer_spaniel</td>\n",
       "      <td>0.465074</td>\n",
       "      <td>True</td>\n",
       "      <td>collie</td>\n",
       "      <td>0.156665</td>\n",
       "      <td>True</td>\n",
       "      <td>Shetland_sheepdog</td>\n",
       "      <td>0.061428</td>\n",
       "      <td>True</td>\n",
       "    </tr>\n",
       "    <tr>\n",
       "      <th>1</th>\n",
       "      <td>666029285002620928</td>\n",
       "      <td>https://pbs.twimg.com/media/CT42GRgUYAA5iDo.jpg</td>\n",
       "      <td>1</td>\n",
       "      <td>redbone</td>\n",
       "      <td>0.506826</td>\n",
       "      <td>True</td>\n",
       "      <td>miniature_pinscher</td>\n",
       "      <td>0.074192</td>\n",
       "      <td>True</td>\n",
       "      <td>Rhodesian_ridgeback</td>\n",
       "      <td>0.072010</td>\n",
       "      <td>True</td>\n",
       "    </tr>\n",
       "    <tr>\n",
       "      <th>2</th>\n",
       "      <td>666033412701032449</td>\n",
       "      <td>https://pbs.twimg.com/media/CT4521TWwAEvMyu.jpg</td>\n",
       "      <td>1</td>\n",
       "      <td>German_shepherd</td>\n",
       "      <td>0.596461</td>\n",
       "      <td>True</td>\n",
       "      <td>malinois</td>\n",
       "      <td>0.138584</td>\n",
       "      <td>True</td>\n",
       "      <td>bloodhound</td>\n",
       "      <td>0.116197</td>\n",
       "      <td>True</td>\n",
       "    </tr>\n",
       "  </tbody>\n",
       "</table>\n",
       "</div>"
      ],
      "text/plain": [
       "             tweet_id                                          jpg_url  \\\n",
       "0  666020888022790149  https://pbs.twimg.com/media/CT4udn0WwAA0aMy.jpg   \n",
       "1  666029285002620928  https://pbs.twimg.com/media/CT42GRgUYAA5iDo.jpg   \n",
       "2  666033412701032449  https://pbs.twimg.com/media/CT4521TWwAEvMyu.jpg   \n",
       "\n",
       "   img_num                      p1   p1_conf  p1_dog                  p2  \\\n",
       "0        1  Welsh_springer_spaniel  0.465074    True              collie   \n",
       "1        1                 redbone  0.506826    True  miniature_pinscher   \n",
       "2        1         German_shepherd  0.596461    True            malinois   \n",
       "\n",
       "    p2_conf  p2_dog                   p3   p3_conf  p3_dog  \n",
       "0  0.156665    True    Shetland_sheepdog  0.061428    True  \n",
       "1  0.074192    True  Rhodesian_ridgeback  0.072010    True  \n",
       "2  0.138584    True           bloodhound  0.116197    True  "
      ]
     },
     "execution_count": 20,
     "metadata": {},
     "output_type": "execute_result"
    }
   ],
   "source": [
    "# Information data image_prediction \n",
    "df_image_predictions.head(3)"
   ]
  },
  {
   "cell_type": "code",
   "execution_count": 21,
   "metadata": {},
   "outputs": [
    {
     "name": "stdout",
     "output_type": "stream",
     "text": [
      "Rows: 2075\n",
      "Columns: 12\n"
     ]
    }
   ],
   "source": [
    "# Inforamtion about data twitter-archive-enhanced.csv.\n",
    "print(\"Rows: {}\\nColumns: {}\".\n",
    "      format(*df_image_predictions.shape))"
   ]
  },
  {
   "cell_type": "markdown",
   "metadata": {},
   "source": [
    "### Twitter's API"
   ]
  },
  {
   "cell_type": "code",
   "execution_count": 22,
   "metadata": {},
   "outputs": [],
   "source": [
    "#using Python's Tweepy library and download data  data from tweet_json to github\n",
    "# Read in all the data from tweet_json.txt\n",
    "#data_json = 'tweet_json.txt'\n",
    "# print(df_json)\n",
    "#path = \n",
    "#file = 'tweet_json'\n",
    "#df_json = pd.read_json(path+file) \n",
    "#df_json = pd.read_json('tweet_json.json', orient = 'index', )\n",
    "data_json = pd.read_json ('https://raw.githubusercontent.com/istam/Wrangle-and-Analyze-Data/main/tweet-json.json', lines = True)\n",
    "#pd.read_json(data_json, lines = True)"
   ]
  },
  {
   "cell_type": "code",
   "execution_count": 23,
   "metadata": {},
   "outputs": [
    {
     "data": {
      "text/html": [
       "<div>\n",
       "<style scoped>\n",
       "    .dataframe tbody tr th:only-of-type {\n",
       "        vertical-align: middle;\n",
       "    }\n",
       "\n",
       "    .dataframe tbody tr th {\n",
       "        vertical-align: top;\n",
       "    }\n",
       "\n",
       "    .dataframe thead th {\n",
       "        text-align: right;\n",
       "    }\n",
       "</style>\n",
       "<table border=\"1\" class=\"dataframe\">\n",
       "  <thead>\n",
       "    <tr style=\"text-align: right;\">\n",
       "      <th></th>\n",
       "      <th>created_at</th>\n",
       "      <th>id</th>\n",
       "      <th>id_str</th>\n",
       "      <th>full_text</th>\n",
       "      <th>truncated</th>\n",
       "      <th>display_text_range</th>\n",
       "      <th>entities</th>\n",
       "      <th>extended_entities</th>\n",
       "      <th>source</th>\n",
       "      <th>in_reply_to_status_id</th>\n",
       "      <th>...</th>\n",
       "      <th>favorite_count</th>\n",
       "      <th>favorited</th>\n",
       "      <th>retweeted</th>\n",
       "      <th>possibly_sensitive</th>\n",
       "      <th>possibly_sensitive_appealable</th>\n",
       "      <th>lang</th>\n",
       "      <th>retweeted_status</th>\n",
       "      <th>quoted_status_id</th>\n",
       "      <th>quoted_status_id_str</th>\n",
       "      <th>quoted_status</th>\n",
       "    </tr>\n",
       "  </thead>\n",
       "  <tbody>\n",
       "    <tr>\n",
       "      <th>0</th>\n",
       "      <td>2017-08-01 16:23:56+00:00</td>\n",
       "      <td>892420643555336193</td>\n",
       "      <td>892420643555336192</td>\n",
       "      <td>This is Phineas. He's a mystical boy. Only eve...</td>\n",
       "      <td>False</td>\n",
       "      <td>[0, 85]</td>\n",
       "      <td>{'hashtags': [], 'symbols': [], 'user_mentions...</td>\n",
       "      <td>{'media': [{'id': 892420639486877696, 'id_str'...</td>\n",
       "      <td>&lt;a href=\"http://twitter.com/download/iphone\" r...</td>\n",
       "      <td>NaN</td>\n",
       "      <td>...</td>\n",
       "      <td>39467</td>\n",
       "      <td>False</td>\n",
       "      <td>False</td>\n",
       "      <td>0.0</td>\n",
       "      <td>0.0</td>\n",
       "      <td>en</td>\n",
       "      <td>NaN</td>\n",
       "      <td>NaN</td>\n",
       "      <td>NaN</td>\n",
       "      <td>NaN</td>\n",
       "    </tr>\n",
       "    <tr>\n",
       "      <th>1</th>\n",
       "      <td>2017-08-01 00:17:27+00:00</td>\n",
       "      <td>892177421306343426</td>\n",
       "      <td>892177421306343424</td>\n",
       "      <td>This is Tilly. She's just checking pup on you....</td>\n",
       "      <td>False</td>\n",
       "      <td>[0, 138]</td>\n",
       "      <td>{'hashtags': [], 'symbols': [], 'user_mentions...</td>\n",
       "      <td>{'media': [{'id': 892177413194625024, 'id_str'...</td>\n",
       "      <td>&lt;a href=\"http://twitter.com/download/iphone\" r...</td>\n",
       "      <td>NaN</td>\n",
       "      <td>...</td>\n",
       "      <td>33819</td>\n",
       "      <td>False</td>\n",
       "      <td>False</td>\n",
       "      <td>0.0</td>\n",
       "      <td>0.0</td>\n",
       "      <td>en</td>\n",
       "      <td>NaN</td>\n",
       "      <td>NaN</td>\n",
       "      <td>NaN</td>\n",
       "      <td>NaN</td>\n",
       "    </tr>\n",
       "    <tr>\n",
       "      <th>2</th>\n",
       "      <td>2017-07-31 00:18:03+00:00</td>\n",
       "      <td>891815181378084864</td>\n",
       "      <td>891815181378084864</td>\n",
       "      <td>This is Archie. He is a rare Norwegian Pouncin...</td>\n",
       "      <td>False</td>\n",
       "      <td>[0, 121]</td>\n",
       "      <td>{'hashtags': [], 'symbols': [], 'user_mentions...</td>\n",
       "      <td>{'media': [{'id': 891815175371796480, 'id_str'...</td>\n",
       "      <td>&lt;a href=\"http://twitter.com/download/iphone\" r...</td>\n",
       "      <td>NaN</td>\n",
       "      <td>...</td>\n",
       "      <td>25461</td>\n",
       "      <td>False</td>\n",
       "      <td>False</td>\n",
       "      <td>0.0</td>\n",
       "      <td>0.0</td>\n",
       "      <td>en</td>\n",
       "      <td>NaN</td>\n",
       "      <td>NaN</td>\n",
       "      <td>NaN</td>\n",
       "      <td>NaN</td>\n",
       "    </tr>\n",
       "  </tbody>\n",
       "</table>\n",
       "<p>3 rows × 31 columns</p>\n",
       "</div>"
      ],
      "text/plain": [
       "                 created_at                  id              id_str  \\\n",
       "0 2017-08-01 16:23:56+00:00  892420643555336193  892420643555336192   \n",
       "1 2017-08-01 00:17:27+00:00  892177421306343426  892177421306343424   \n",
       "2 2017-07-31 00:18:03+00:00  891815181378084864  891815181378084864   \n",
       "\n",
       "                                           full_text  truncated  \\\n",
       "0  This is Phineas. He's a mystical boy. Only eve...      False   \n",
       "1  This is Tilly. She's just checking pup on you....      False   \n",
       "2  This is Archie. He is a rare Norwegian Pouncin...      False   \n",
       "\n",
       "  display_text_range                                           entities  \\\n",
       "0            [0, 85]  {'hashtags': [], 'symbols': [], 'user_mentions...   \n",
       "1           [0, 138]  {'hashtags': [], 'symbols': [], 'user_mentions...   \n",
       "2           [0, 121]  {'hashtags': [], 'symbols': [], 'user_mentions...   \n",
       "\n",
       "                                   extended_entities  \\\n",
       "0  {'media': [{'id': 892420639486877696, 'id_str'...   \n",
       "1  {'media': [{'id': 892177413194625024, 'id_str'...   \n",
       "2  {'media': [{'id': 891815175371796480, 'id_str'...   \n",
       "\n",
       "                                              source  in_reply_to_status_id  \\\n",
       "0  <a href=\"http://twitter.com/download/iphone\" r...                    NaN   \n",
       "1  <a href=\"http://twitter.com/download/iphone\" r...                    NaN   \n",
       "2  <a href=\"http://twitter.com/download/iphone\" r...                    NaN   \n",
       "\n",
       "   ...  favorite_count  favorited  retweeted possibly_sensitive  \\\n",
       "0  ...           39467      False      False                0.0   \n",
       "1  ...           33819      False      False                0.0   \n",
       "2  ...           25461      False      False                0.0   \n",
       "\n",
       "  possibly_sensitive_appealable  lang  retweeted_status quoted_status_id  \\\n",
       "0                           0.0    en               NaN              NaN   \n",
       "1                           0.0    en               NaN              NaN   \n",
       "2                           0.0    en               NaN              NaN   \n",
       "\n",
       "   quoted_status_id_str  quoted_status  \n",
       "0                   NaN            NaN  \n",
       "1                   NaN            NaN  \n",
       "2                   NaN            NaN  \n",
       "\n",
       "[3 rows x 31 columns]"
      ]
     },
     "execution_count": 23,
     "metadata": {},
     "output_type": "execute_result"
    }
   ],
   "source": [
    "data_json.head(3)"
   ]
  },
  {
   "cell_type": "code",
   "execution_count": 24,
   "metadata": {},
   "outputs": [
    {
     "data": {
      "text/plain": [
       "0       This is Phineas. He's a mystical boy. Only eve...\n",
       "1       This is Tilly. She's just checking pup on you....\n",
       "2       This is Archie. He is a rare Norwegian Pouncin...\n",
       "3       This is Darla. She commenced a snooze mid meal...\n",
       "4       This is Franklin. He would like you to stop ca...\n",
       "                              ...                        \n",
       "2349    Here we have a 1949 1st generation vulpix. Enj...\n",
       "2350    This is a purebred Piers Morgan. Loves to Netf...\n",
       "2351    Here is a very happy pup. Big fan of well-main...\n",
       "2352    This is a western brown Mitsubishi terrier. Up...\n",
       "2353    Here we have a Japanese Irish Setter. Lost eye...\n",
       "Name: full_text, Length: 2354, dtype: object"
      ]
     },
     "execution_count": 24,
     "metadata": {},
     "output_type": "execute_result"
    }
   ],
   "source": [
    "data_json.full_text"
   ]
  },
  {
   "cell_type": "code",
   "execution_count": 25,
   "metadata": {},
   "outputs": [],
   "source": [
    "# Save tweet_json.json file to csv data_json.csv file \n",
    "data_json.to_csv('tweet_json.csv')"
   ]
  },
  {
   "cell_type": "code",
   "execution_count": 26,
   "metadata": {},
   "outputs": [],
   "source": [
    "data_json_csv = pd.read_csv('tweet_json.csv')"
   ]
  },
  {
   "cell_type": "code",
   "execution_count": 27,
   "metadata": {},
   "outputs": [
    {
     "data": {
      "text/html": [
       "<div>\n",
       "<style scoped>\n",
       "    .dataframe tbody tr th:only-of-type {\n",
       "        vertical-align: middle;\n",
       "    }\n",
       "\n",
       "    .dataframe tbody tr th {\n",
       "        vertical-align: top;\n",
       "    }\n",
       "\n",
       "    .dataframe thead th {\n",
       "        text-align: right;\n",
       "    }\n",
       "</style>\n",
       "<table border=\"1\" class=\"dataframe\">\n",
       "  <thead>\n",
       "    <tr style=\"text-align: right;\">\n",
       "      <th></th>\n",
       "      <th>Unnamed: 0</th>\n",
       "      <th>created_at</th>\n",
       "      <th>id</th>\n",
       "      <th>id_str</th>\n",
       "      <th>full_text</th>\n",
       "      <th>truncated</th>\n",
       "      <th>display_text_range</th>\n",
       "      <th>entities</th>\n",
       "      <th>extended_entities</th>\n",
       "      <th>source</th>\n",
       "      <th>...</th>\n",
       "      <th>favorite_count</th>\n",
       "      <th>favorited</th>\n",
       "      <th>retweeted</th>\n",
       "      <th>possibly_sensitive</th>\n",
       "      <th>possibly_sensitive_appealable</th>\n",
       "      <th>lang</th>\n",
       "      <th>retweeted_status</th>\n",
       "      <th>quoted_status_id</th>\n",
       "      <th>quoted_status_id_str</th>\n",
       "      <th>quoted_status</th>\n",
       "    </tr>\n",
       "  </thead>\n",
       "  <tbody>\n",
       "    <tr>\n",
       "      <th>0</th>\n",
       "      <td>0</td>\n",
       "      <td>2017-08-01 16:23:56+00:00</td>\n",
       "      <td>892420643555336193</td>\n",
       "      <td>892420643555336192</td>\n",
       "      <td>This is Phineas. He's a mystical boy. Only eve...</td>\n",
       "      <td>False</td>\n",
       "      <td>[0, 85]</td>\n",
       "      <td>{'hashtags': [], 'symbols': [], 'user_mentions...</td>\n",
       "      <td>{'media': [{'id': 892420639486877696, 'id_str'...</td>\n",
       "      <td>&lt;a href=\"http://twitter.com/download/iphone\" r...</td>\n",
       "      <td>...</td>\n",
       "      <td>39467</td>\n",
       "      <td>False</td>\n",
       "      <td>False</td>\n",
       "      <td>0.0</td>\n",
       "      <td>0.0</td>\n",
       "      <td>en</td>\n",
       "      <td>NaN</td>\n",
       "      <td>NaN</td>\n",
       "      <td>NaN</td>\n",
       "      <td>NaN</td>\n",
       "    </tr>\n",
       "    <tr>\n",
       "      <th>1</th>\n",
       "      <td>1</td>\n",
       "      <td>2017-08-01 00:17:27+00:00</td>\n",
       "      <td>892177421306343426</td>\n",
       "      <td>892177421306343424</td>\n",
       "      <td>This is Tilly. She's just checking pup on you....</td>\n",
       "      <td>False</td>\n",
       "      <td>[0, 138]</td>\n",
       "      <td>{'hashtags': [], 'symbols': [], 'user_mentions...</td>\n",
       "      <td>{'media': [{'id': 892177413194625024, 'id_str'...</td>\n",
       "      <td>&lt;a href=\"http://twitter.com/download/iphone\" r...</td>\n",
       "      <td>...</td>\n",
       "      <td>33819</td>\n",
       "      <td>False</td>\n",
       "      <td>False</td>\n",
       "      <td>0.0</td>\n",
       "      <td>0.0</td>\n",
       "      <td>en</td>\n",
       "      <td>NaN</td>\n",
       "      <td>NaN</td>\n",
       "      <td>NaN</td>\n",
       "      <td>NaN</td>\n",
       "    </tr>\n",
       "  </tbody>\n",
       "</table>\n",
       "<p>2 rows × 32 columns</p>\n",
       "</div>"
      ],
      "text/plain": [
       "   Unnamed: 0                 created_at                  id  \\\n",
       "0           0  2017-08-01 16:23:56+00:00  892420643555336193   \n",
       "1           1  2017-08-01 00:17:27+00:00  892177421306343426   \n",
       "\n",
       "               id_str                                          full_text  \\\n",
       "0  892420643555336192  This is Phineas. He's a mystical boy. Only eve...   \n",
       "1  892177421306343424  This is Tilly. She's just checking pup on you....   \n",
       "\n",
       "   truncated display_text_range  \\\n",
       "0      False            [0, 85]   \n",
       "1      False           [0, 138]   \n",
       "\n",
       "                                            entities  \\\n",
       "0  {'hashtags': [], 'symbols': [], 'user_mentions...   \n",
       "1  {'hashtags': [], 'symbols': [], 'user_mentions...   \n",
       "\n",
       "                                   extended_entities  \\\n",
       "0  {'media': [{'id': 892420639486877696, 'id_str'...   \n",
       "1  {'media': [{'id': 892177413194625024, 'id_str'...   \n",
       "\n",
       "                                              source  ...  favorite_count  \\\n",
       "0  <a href=\"http://twitter.com/download/iphone\" r...  ...           39467   \n",
       "1  <a href=\"http://twitter.com/download/iphone\" r...  ...           33819   \n",
       "\n",
       "   favorited  retweeted  possibly_sensitive possibly_sensitive_appealable  \\\n",
       "0      False      False                 0.0                           0.0   \n",
       "1      False      False                 0.0                           0.0   \n",
       "\n",
       "  lang  retweeted_status  quoted_status_id quoted_status_id_str  quoted_status  \n",
       "0   en               NaN               NaN                  NaN            NaN  \n",
       "1   en               NaN               NaN                  NaN            NaN  \n",
       "\n",
       "[2 rows x 32 columns]"
      ]
     },
     "execution_count": 27,
     "metadata": {},
     "output_type": "execute_result"
    }
   ],
   "source": [
    "data_json_csv.head(2)"
   ]
  },
  {
   "cell_type": "code",
   "execution_count": 28,
   "metadata": {},
   "outputs": [
    {
     "data": {
      "text/plain": [
       "Unnamed: 0                         int64\n",
       "created_at                        object\n",
       "id                                 int64\n",
       "id_str                             int64\n",
       "full_text                         object\n",
       "truncated                           bool\n",
       "display_text_range                object\n",
       "entities                          object\n",
       "extended_entities                 object\n",
       "source                            object\n",
       "in_reply_to_status_id            float64\n",
       "in_reply_to_status_id_str        float64\n",
       "in_reply_to_user_id              float64\n",
       "in_reply_to_user_id_str          float64\n",
       "in_reply_to_screen_name           object\n",
       "user                              object\n",
       "geo                              float64\n",
       "coordinates                      float64\n",
       "place                             object\n",
       "contributors                     float64\n",
       "is_quote_status                     bool\n",
       "retweet_count                      int64\n",
       "favorite_count                     int64\n",
       "favorited                           bool\n",
       "retweeted                           bool\n",
       "possibly_sensitive               float64\n",
       "possibly_sensitive_appealable    float64\n",
       "lang                              object\n",
       "retweeted_status                  object\n",
       "quoted_status_id                 float64\n",
       "quoted_status_id_str             float64\n",
       "quoted_status                     object\n",
       "dtype: object"
      ]
     },
     "execution_count": 28,
     "metadata": {},
     "output_type": "execute_result"
    }
   ],
   "source": [
    "data_json_csv.dtypes"
   ]
  },
  {
   "cell_type": "markdown",
   "metadata": {},
   "source": [
    "# Assesment and  Data Cleaning"
   ]
  },
  {
   "cell_type": "markdown",
   "metadata": {},
   "source": [
    "##### \n",
    "After gathering each of the above pieces of data, assess them visually and programmatically for quality and tidiness issues. Detect and document at least 8 quality issues and 2 tidiness issues in your wrangle_act.ipynb Jupyter Notebook. To meet specifications, the issues that satisfy the Project Motivation must be assessed."
   ]
  },
  {
   "cell_type": "markdown",
   "metadata": {},
   "source": [
    "### Quality\n",
    "\n",
    "According to the database twitter_archive:\n",
    "\n",
    "1. Identify rows of unnamed dogs\n",
    "2. Some of the rating_denominators are entered incorrectly.\n",
    "3. There are rows of redundant retweets in the database\n",
    "4. Incorrect types of data given \"time stamp\", \"tweet_id\".\n",
    "5. There is data in image_prediction.\n",
    "6. The in_reply_to_status_id and in_reply_to_user_id data are not sufficient for evaluation.\n",
    "7. The TWEET API does not use columns such as geo, coordinates, place, contributors in the data set.\n",
    "8. Quality sources tweeted to dogs\n",
    "\n",
    "\n",
    "\n",
    "### Quantity:\n",
    "1. To assess the experience of dogs need only one \"stage\" column\n",
    "2. The dog’s “stages” are not a single column filled with values."
   ]
  },
  {
   "cell_type": "markdown",
   "metadata": {},
   "source": [
    "## Clean data "
   ]
  },
  {
   "cell_type": "markdown",
   "metadata": {},
   "source": [
    "###  I create backup copies of the database to use for Data Cleaning and keep the originals for future data analysis.\n"
   ]
  },
  {
   "cell_type": "code",
   "execution_count": 29,
   "metadata": {},
   "outputs": [],
   "source": [
    "# Create copie\n",
    "clean_df_archive = df.copy()\n",
    "clean_df_image = df_image_predictions.copy()\n",
    "clean_df_tweet = data_json_csv.copy()"
   ]
  },
  {
   "cell_type": "code",
   "execution_count": 30,
   "metadata": {},
   "outputs": [
    {
     "name": "stdout",
     "output_type": "stream",
     "text": [
      "<class 'pandas.core.frame.DataFrame'>\n",
      "RangeIndex: 2356 entries, 0 to 2355\n",
      "Data columns (total 17 columns):\n",
      " #   Column                      Non-Null Count  Dtype  \n",
      "---  ------                      --------------  -----  \n",
      " 0   tweet_id                    2356 non-null   int64  \n",
      " 1   in_reply_to_status_id       78 non-null     float64\n",
      " 2   in_reply_to_user_id         78 non-null     float64\n",
      " 3   timestamp                   2356 non-null   object \n",
      " 4   source                      2356 non-null   object \n",
      " 5   text                        2356 non-null   object \n",
      " 6   retweeted_status_id         181 non-null    float64\n",
      " 7   retweeted_status_user_id    181 non-null    float64\n",
      " 8   retweeted_status_timestamp  181 non-null    object \n",
      " 9   expanded_urls               2297 non-null   object \n",
      " 10  rating_numerator            2356 non-null   int64  \n",
      " 11  rating_denominator          2356 non-null   int64  \n",
      " 12  name                        2356 non-null   object \n",
      " 13  doggo                       2356 non-null   object \n",
      " 14  floofer                     2356 non-null   object \n",
      " 15  pupper                      2356 non-null   object \n",
      " 16  puppo                       2356 non-null   object \n",
      "dtypes: float64(4), int64(3), object(10)\n",
      "memory usage: 313.0+ KB\n"
     ]
    }
   ],
   "source": [
    "clean_df_archive.info()"
   ]
  },
  {
   "cell_type": "markdown",
   "metadata": {},
   "source": [
    "A collection of a total of 2356 rows and 16 columns can be seen from this data"
   ]
  },
  {
   "cell_type": "code",
   "execution_count": 31,
   "metadata": {},
   "outputs": [],
   "source": [
    "clean_df_archive['doggo'].fillna(value = \"None\", inplace = True )"
   ]
  },
  {
   "cell_type": "code",
   "execution_count": 32,
   "metadata": {},
   "outputs": [],
   "source": [
    "# Replace empty entries\n",
    "clean_df_archive.doggo.replace('None', '', inplace=True)\n",
    "clean_df_archive.floofer.replace('None', '', inplace=True)\n",
    "clean_df_archive.pupper.replace('None', '', inplace=True)\n",
    "clean_df_archive.puppo.replace('None', '', inplace=True)"
   ]
  },
  {
   "cell_type": "code",
   "execution_count": 33,
   "metadata": {},
   "outputs": [],
   "source": [
    "clean_df_archive['dog_stage'] = clean_df_archive['doggo'] + clean_df_archive['puppo'] + clean_df_archive['floofer']+ clean_df_archive['pupper']"
   ]
  },
  {
   "cell_type": "code",
   "execution_count": 34,
   "metadata": {},
   "outputs": [
    {
     "name": "stdout",
     "output_type": "stream",
     "text": [
      "                1976\n",
      "pupper           245\n",
      "doggo             83\n",
      "puppo             29\n",
      "doggopupper       12\n",
      "floofer            9\n",
      "doggopuppo         1\n",
      "doggofloofer       1\n",
      "Name: dog_stage, dtype: int64\n"
     ]
    }
   ],
   "source": [
    "print(clean_df_archive['dog_stage'].value_counts())"
   ]
  },
  {
   "cell_type": "code",
   "execution_count": 35,
   "metadata": {},
   "outputs": [
    {
     "name": "stdout",
     "output_type": "stream",
     "text": [
      "<class 'pandas.core.frame.DataFrame'>\n",
      "RangeIndex: 2075 entries, 0 to 2074\n",
      "Data columns (total 12 columns):\n",
      " #   Column    Non-Null Count  Dtype  \n",
      "---  ------    --------------  -----  \n",
      " 0   tweet_id  2075 non-null   int64  \n",
      " 1   jpg_url   2075 non-null   object \n",
      " 2   img_num   2075 non-null   int64  \n",
      " 3   p1        2075 non-null   object \n",
      " 4   p1_conf   2075 non-null   float64\n",
      " 5   p1_dog    2075 non-null   bool   \n",
      " 6   p2        2075 non-null   object \n",
      " 7   p2_conf   2075 non-null   float64\n",
      " 8   p2_dog    2075 non-null   bool   \n",
      " 9   p3        2075 non-null   object \n",
      " 10  p3_conf   2075 non-null   float64\n",
      " 11  p3_dog    2075 non-null   bool   \n",
      "dtypes: bool(3), float64(3), int64(2), object(4)\n",
      "memory usage: 152.1+ KB\n"
     ]
    }
   ],
   "source": [
    "clean_df_image.info()"
   ]
  },
  {
   "cell_type": "code",
   "execution_count": 36,
   "metadata": {},
   "outputs": [],
   "source": [
    "# Create breed column\n",
    "clean_df_image['breed_dog'] = np.where(clean_df_image['p1_dog'], clean_df_image['p1'],\n",
    "                              np.where(clean_df_image['p2_dog'], clean_df_image['p2'],\n",
    "                              np.where(clean_df_image['p3_dog'], clean_df_image['p3'],\n",
    "                              np.NaN\n",
    "                              )))"
   ]
  },
  {
   "cell_type": "code",
   "execution_count": 37,
   "metadata": {},
   "outputs": [
    {
     "data": {
      "text/plain": [
       "golden_retriever      173\n",
       "Labrador_retriever    113\n",
       "Pembroke               96\n",
       "Chihuahua              95\n",
       "pug                    65\n",
       "                     ... \n",
       "Japanese_spaniel        1\n",
       "standard_schnauzer      1\n",
       "silky_terrier           1\n",
       "EntleBucher             1\n",
       "Irish_wolfhound         1\n",
       "Name: breed_dog, Length: 113, dtype: int64"
      ]
     },
     "execution_count": 37,
     "metadata": {},
     "output_type": "execute_result"
    }
   ],
   "source": [
    "clean_df_image.breed_dog.value_counts()"
   ]
  },
  {
   "cell_type": "code",
   "execution_count": 38,
   "metadata": {},
   "outputs": [
    {
     "name": "stdout",
     "output_type": "stream",
     "text": [
      "<class 'pandas.core.frame.DataFrame'>\n",
      "RangeIndex: 2354 entries, 0 to 2353\n",
      "Data columns (total 32 columns):\n",
      " #   Column                         Non-Null Count  Dtype  \n",
      "---  ------                         --------------  -----  \n",
      " 0   Unnamed: 0                     2354 non-null   int64  \n",
      " 1   created_at                     2354 non-null   object \n",
      " 2   id                             2354 non-null   int64  \n",
      " 3   id_str                         2354 non-null   int64  \n",
      " 4   full_text                      2354 non-null   object \n",
      " 5   truncated                      2354 non-null   bool   \n",
      " 6   display_text_range             2354 non-null   object \n",
      " 7   entities                       2354 non-null   object \n",
      " 8   extended_entities              2073 non-null   object \n",
      " 9   source                         2354 non-null   object \n",
      " 10  in_reply_to_status_id          78 non-null     float64\n",
      " 11  in_reply_to_status_id_str      78 non-null     float64\n",
      " 12  in_reply_to_user_id            78 non-null     float64\n",
      " 13  in_reply_to_user_id_str        78 non-null     float64\n",
      " 14  in_reply_to_screen_name        78 non-null     object \n",
      " 15  user                           2354 non-null   object \n",
      " 16  geo                            0 non-null      float64\n",
      " 17  coordinates                    0 non-null      float64\n",
      " 18  place                          1 non-null      object \n",
      " 19  contributors                   0 non-null      float64\n",
      " 20  is_quote_status                2354 non-null   bool   \n",
      " 21  retweet_count                  2354 non-null   int64  \n",
      " 22  favorite_count                 2354 non-null   int64  \n",
      " 23  favorited                      2354 non-null   bool   \n",
      " 24  retweeted                      2354 non-null   bool   \n",
      " 25  possibly_sensitive             2211 non-null   float64\n",
      " 26  possibly_sensitive_appealable  2211 non-null   float64\n",
      " 27  lang                           2354 non-null   object \n",
      " 28  retweeted_status               179 non-null    object \n",
      " 29  quoted_status_id               29 non-null     float64\n",
      " 30  quoted_status_id_str           29 non-null     float64\n",
      " 31  quoted_status                  28 non-null     object \n",
      "dtypes: bool(4), float64(11), int64(5), object(12)\n",
      "memory usage: 524.3+ KB\n"
     ]
    }
   ],
   "source": [
    "clean_df_tweet.info()"
   ]
  },
  {
   "cell_type": "code",
   "execution_count": 39,
   "metadata": {},
   "outputs": [],
   "source": [
    "# rename 'id' columns to 'tweet_id' for merging\n",
    "clean_df_tweet = clean_df_tweet.rename({'id':'tweet_id'}, axis = 'columns')"
   ]
  },
  {
   "cell_type": "code",
   "execution_count": 40,
   "metadata": {},
   "outputs": [
    {
     "data": {
      "text/html": [
       "<div>\n",
       "<style scoped>\n",
       "    .dataframe tbody tr th:only-of-type {\n",
       "        vertical-align: middle;\n",
       "    }\n",
       "\n",
       "    .dataframe tbody tr th {\n",
       "        vertical-align: top;\n",
       "    }\n",
       "\n",
       "    .dataframe thead th {\n",
       "        text-align: right;\n",
       "    }\n",
       "</style>\n",
       "<table border=\"1\" class=\"dataframe\">\n",
       "  <thead>\n",
       "    <tr style=\"text-align: right;\">\n",
       "      <th></th>\n",
       "      <th>Unnamed: 0</th>\n",
       "      <th>created_at</th>\n",
       "      <th>tweet_id</th>\n",
       "      <th>id_str</th>\n",
       "      <th>full_text</th>\n",
       "      <th>truncated</th>\n",
       "      <th>display_text_range</th>\n",
       "      <th>entities</th>\n",
       "      <th>extended_entities</th>\n",
       "      <th>source</th>\n",
       "      <th>...</th>\n",
       "      <th>favorite_count</th>\n",
       "      <th>favorited</th>\n",
       "      <th>retweeted</th>\n",
       "      <th>possibly_sensitive</th>\n",
       "      <th>possibly_sensitive_appealable</th>\n",
       "      <th>lang</th>\n",
       "      <th>retweeted_status</th>\n",
       "      <th>quoted_status_id</th>\n",
       "      <th>quoted_status_id_str</th>\n",
       "      <th>quoted_status</th>\n",
       "    </tr>\n",
       "  </thead>\n",
       "  <tbody>\n",
       "    <tr>\n",
       "      <th>0</th>\n",
       "      <td>0</td>\n",
       "      <td>2017-08-01 16:23:56+00:00</td>\n",
       "      <td>892420643555336193</td>\n",
       "      <td>892420643555336192</td>\n",
       "      <td>This is Phineas. He's a mystical boy. Only eve...</td>\n",
       "      <td>False</td>\n",
       "      <td>[0, 85]</td>\n",
       "      <td>{'hashtags': [], 'symbols': [], 'user_mentions...</td>\n",
       "      <td>{'media': [{'id': 892420639486877696, 'id_str'...</td>\n",
       "      <td>&lt;a href=\"http://twitter.com/download/iphone\" r...</td>\n",
       "      <td>...</td>\n",
       "      <td>39467</td>\n",
       "      <td>False</td>\n",
       "      <td>False</td>\n",
       "      <td>0.0</td>\n",
       "      <td>0.0</td>\n",
       "      <td>en</td>\n",
       "      <td>NaN</td>\n",
       "      <td>NaN</td>\n",
       "      <td>NaN</td>\n",
       "      <td>NaN</td>\n",
       "    </tr>\n",
       "  </tbody>\n",
       "</table>\n",
       "<p>1 rows × 32 columns</p>\n",
       "</div>"
      ],
      "text/plain": [
       "   Unnamed: 0                 created_at            tweet_id  \\\n",
       "0           0  2017-08-01 16:23:56+00:00  892420643555336193   \n",
       "\n",
       "               id_str                                          full_text  \\\n",
       "0  892420643555336192  This is Phineas. He's a mystical boy. Only eve...   \n",
       "\n",
       "   truncated display_text_range  \\\n",
       "0      False            [0, 85]   \n",
       "\n",
       "                                            entities  \\\n",
       "0  {'hashtags': [], 'symbols': [], 'user_mentions...   \n",
       "\n",
       "                                   extended_entities  \\\n",
       "0  {'media': [{'id': 892420639486877696, 'id_str'...   \n",
       "\n",
       "                                              source  ...  favorite_count  \\\n",
       "0  <a href=\"http://twitter.com/download/iphone\" r...  ...           39467   \n",
       "\n",
       "   favorited  retweeted  possibly_sensitive possibly_sensitive_appealable  \\\n",
       "0      False      False                 0.0                           0.0   \n",
       "\n",
       "  lang  retweeted_status  quoted_status_id quoted_status_id_str  quoted_status  \n",
       "0   en               NaN               NaN                  NaN            NaN  \n",
       "\n",
       "[1 rows x 32 columns]"
      ]
     },
     "execution_count": 40,
     "metadata": {},
     "output_type": "execute_result"
    }
   ],
   "source": [
    "clean_df_tweet.head(1)"
   ]
  },
  {
   "cell_type": "markdown",
   "metadata": {},
   "source": [
    "# By combining the data obtained, we make the data ready for visualization."
   ]
  },
  {
   "cell_type": "code",
   "execution_count": 41,
   "metadata": {},
   "outputs": [
    {
     "name": "stdout",
     "output_type": "stream",
     "text": [
      "<class 'pandas.core.frame.DataFrame'>\n",
      "Int64Index: 2075 entries, 0 to 2074\n",
      "Data columns (total 30 columns):\n",
      " #   Column                      Non-Null Count  Dtype  \n",
      "---  ------                      --------------  -----  \n",
      " 0   tweet_id                    2075 non-null   int64  \n",
      " 1   in_reply_to_status_id       23 non-null     float64\n",
      " 2   in_reply_to_user_id         23 non-null     float64\n",
      " 3   timestamp                   2075 non-null   object \n",
      " 4   source                      2075 non-null   object \n",
      " 5   text                        2075 non-null   object \n",
      " 6   retweeted_status_id         81 non-null     float64\n",
      " 7   retweeted_status_user_id    81 non-null     float64\n",
      " 8   retweeted_status_timestamp  81 non-null     object \n",
      " 9   expanded_urls               2075 non-null   object \n",
      " 10  rating_numerator            2075 non-null   int64  \n",
      " 11  rating_denominator          2075 non-null   int64  \n",
      " 12  name                        2075 non-null   object \n",
      " 13  doggo                       2075 non-null   object \n",
      " 14  floofer                     2075 non-null   object \n",
      " 15  pupper                      2075 non-null   object \n",
      " 16  puppo                       2075 non-null   object \n",
      " 17  dog_stage                   2075 non-null   object \n",
      " 18  jpg_url                     2075 non-null   object \n",
      " 19  img_num                     2075 non-null   int64  \n",
      " 20  p1                          2075 non-null   object \n",
      " 21  p1_conf                     2075 non-null   float64\n",
      " 22  p1_dog                      2075 non-null   bool   \n",
      " 23  p2                          2075 non-null   object \n",
      " 24  p2_conf                     2075 non-null   float64\n",
      " 25  p2_dog                      2075 non-null   bool   \n",
      " 26  p3                          2075 non-null   object \n",
      " 27  p3_conf                     2075 non-null   float64\n",
      " 28  p3_dog                      2075 non-null   bool   \n",
      " 29  breed_dog                   1751 non-null   object \n",
      "dtypes: bool(3), float64(7), int64(4), object(16)\n",
      "memory usage: 460.0+ KB\n"
     ]
    }
   ],
   "source": [
    "# merging 2 dataframes for vizsualisation\n",
    "df_visual1 = pd.merge(clean_df_archive, clean_df_image, on =['tweet_id'], how= 'inner')\n",
    "df_visual1.info() "
   ]
  },
  {
   "cell_type": "code",
   "execution_count": 44,
   "metadata": {},
   "outputs": [],
   "source": [
    "### Combined data obtained. We keep this base as a twitter master."
   ]
  },
  {
   "cell_type": "code",
   "execution_count": 89,
   "metadata": {},
   "outputs": [],
   "source": [
    "df_visual_all = pd.merge(df_visual1, clean_df_tweet, on =['tweet_id'], how= 'inner')"
   ]
  },
  {
   "cell_type": "code",
   "execution_count": 90,
   "metadata": {},
   "outputs": [],
   "source": [
    "twittermaster.to_csv('C://Users//istam//Desktop//Wrangle-and-Analyze-Data-master//Istam//df_visual_all.csv')"
   ]
  },
  {
   "cell_type": "code",
   "execution_count": 91,
   "metadata": {},
   "outputs": [
    {
     "data": {
      "text/html": [
       "<div>\n",
       "<style scoped>\n",
       "    .dataframe tbody tr th:only-of-type {\n",
       "        vertical-align: middle;\n",
       "    }\n",
       "\n",
       "    .dataframe tbody tr th {\n",
       "        vertical-align: top;\n",
       "    }\n",
       "\n",
       "    .dataframe thead th {\n",
       "        text-align: right;\n",
       "    }\n",
       "</style>\n",
       "<table border=\"1\" class=\"dataframe\">\n",
       "  <thead>\n",
       "    <tr style=\"text-align: right;\">\n",
       "      <th></th>\n",
       "      <th>tweet_id</th>\n",
       "      <th>in_reply_to_status_id_x</th>\n",
       "      <th>in_reply_to_user_id_x</th>\n",
       "      <th>timestamp</th>\n",
       "      <th>source_x</th>\n",
       "      <th>text</th>\n",
       "      <th>retweeted_status_id</th>\n",
       "      <th>retweeted_status_user_id</th>\n",
       "      <th>retweeted_status_timestamp</th>\n",
       "      <th>expanded_urls</th>\n",
       "      <th>...</th>\n",
       "      <th>favorite_count</th>\n",
       "      <th>favorited</th>\n",
       "      <th>retweeted</th>\n",
       "      <th>possibly_sensitive</th>\n",
       "      <th>possibly_sensitive_appealable</th>\n",
       "      <th>lang</th>\n",
       "      <th>retweeted_status</th>\n",
       "      <th>quoted_status_id</th>\n",
       "      <th>quoted_status_id_str</th>\n",
       "      <th>quoted_status</th>\n",
       "    </tr>\n",
       "  </thead>\n",
       "  <tbody>\n",
       "    <tr>\n",
       "      <th>0</th>\n",
       "      <td>892420643555336193</td>\n",
       "      <td>NaN</td>\n",
       "      <td>NaN</td>\n",
       "      <td>2017-08-01 16:23:56 +0000</td>\n",
       "      <td>&lt;a href=\"http://twitter.com/download/iphone\" r...</td>\n",
       "      <td>This is Phineas. He's a mystical boy. Only eve...</td>\n",
       "      <td>NaN</td>\n",
       "      <td>NaN</td>\n",
       "      <td>NaN</td>\n",
       "      <td>https://twitter.com/dog_rates/status/892420643...</td>\n",
       "      <td>...</td>\n",
       "      <td>39467</td>\n",
       "      <td>False</td>\n",
       "      <td>False</td>\n",
       "      <td>0.0</td>\n",
       "      <td>0.0</td>\n",
       "      <td>en</td>\n",
       "      <td>NaN</td>\n",
       "      <td>NaN</td>\n",
       "      <td>NaN</td>\n",
       "      <td>NaN</td>\n",
       "    </tr>\n",
       "    <tr>\n",
       "      <th>1</th>\n",
       "      <td>892177421306343426</td>\n",
       "      <td>NaN</td>\n",
       "      <td>NaN</td>\n",
       "      <td>2017-08-01 00:17:27 +0000</td>\n",
       "      <td>&lt;a href=\"http://twitter.com/download/iphone\" r...</td>\n",
       "      <td>This is Tilly. She's just checking pup on you....</td>\n",
       "      <td>NaN</td>\n",
       "      <td>NaN</td>\n",
       "      <td>NaN</td>\n",
       "      <td>https://twitter.com/dog_rates/status/892177421...</td>\n",
       "      <td>...</td>\n",
       "      <td>33819</td>\n",
       "      <td>False</td>\n",
       "      <td>False</td>\n",
       "      <td>0.0</td>\n",
       "      <td>0.0</td>\n",
       "      <td>en</td>\n",
       "      <td>NaN</td>\n",
       "      <td>NaN</td>\n",
       "      <td>NaN</td>\n",
       "      <td>NaN</td>\n",
       "    </tr>\n",
       "  </tbody>\n",
       "</table>\n",
       "<p>2 rows × 61 columns</p>\n",
       "</div>"
      ],
      "text/plain": [
       "             tweet_id  in_reply_to_status_id_x  in_reply_to_user_id_x  \\\n",
       "0  892420643555336193                      NaN                    NaN   \n",
       "1  892177421306343426                      NaN                    NaN   \n",
       "\n",
       "                   timestamp  \\\n",
       "0  2017-08-01 16:23:56 +0000   \n",
       "1  2017-08-01 00:17:27 +0000   \n",
       "\n",
       "                                            source_x  \\\n",
       "0  <a href=\"http://twitter.com/download/iphone\" r...   \n",
       "1  <a href=\"http://twitter.com/download/iphone\" r...   \n",
       "\n",
       "                                                text  retweeted_status_id  \\\n",
       "0  This is Phineas. He's a mystical boy. Only eve...                  NaN   \n",
       "1  This is Tilly. She's just checking pup on you....                  NaN   \n",
       "\n",
       "   retweeted_status_user_id retweeted_status_timestamp  \\\n",
       "0                       NaN                        NaN   \n",
       "1                       NaN                        NaN   \n",
       "\n",
       "                                       expanded_urls  ...  favorite_count  \\\n",
       "0  https://twitter.com/dog_rates/status/892420643...  ...           39467   \n",
       "1  https://twitter.com/dog_rates/status/892177421...  ...           33819   \n",
       "\n",
       "   favorited retweeted possibly_sensitive possibly_sensitive_appealable lang  \\\n",
       "0      False     False                0.0                           0.0   en   \n",
       "1      False     False                0.0                           0.0   en   \n",
       "\n",
       "  retweeted_status quoted_status_id quoted_status_id_str  quoted_status  \n",
       "0              NaN              NaN                  NaN            NaN  \n",
       "1              NaN              NaN                  NaN            NaN  \n",
       "\n",
       "[2 rows x 61 columns]"
      ]
     },
     "execution_count": 91,
     "metadata": {},
     "output_type": "execute_result"
    }
   ],
   "source": [
    "twittermaster.head(2)"
   ]
  },
  {
   "cell_type": "code",
   "execution_count": 78,
   "metadata": {},
   "outputs": [
    {
     "data": {
      "text/plain": [
       "None       577\n",
       "a           55\n",
       "Charlie     11\n",
       "Cooper      10\n",
       "Lucy        10\n",
       "          ... \n",
       "Suki         1\n",
       "Kloey        1\n",
       "Creg         1\n",
       "Tove         1\n",
       "Orion        1\n",
       "Name: name, Length: 936, dtype: int64"
      ]
     },
     "execution_count": 78,
     "metadata": {},
     "output_type": "execute_result"
    }
   ],
   "source": [
    "twittermaster.name.value_counts()"
   ]
  },
  {
   "cell_type": "markdown",
   "metadata": {},
   "source": [
    "# We delete unnecessary columns"
   ]
  },
  {
   "cell_type": "code",
   "execution_count": 74,
   "metadata": {},
   "outputs": [
    {
     "data": {
      "text/plain": [
       "tweet_id                      0\n",
       "in_reply_to_status_id_x    2050\n",
       "in_reply_to_user_id_x      2050\n",
       "timestamp                     0\n",
       "source_x                      0\n",
       "                           ... \n",
       "lang                          0\n",
       "retweeted_status           1994\n",
       "quoted_status_id           2073\n",
       "quoted_status_id_str       2073\n",
       "quoted_status              2073\n",
       "Length: 61, dtype: int64"
      ]
     },
     "execution_count": 74,
     "metadata": {},
     "output_type": "execute_result"
    }
   ],
   "source": [
    "# We select unnecessary columns\n",
    "twittermaster.isna().sum()"
   ]
  },
  {
   "cell_type": "code",
   "execution_count": 48,
   "metadata": {},
   "outputs": [],
   "source": [
    "twittermaster.drop(['in_reply_to_user_id_x', 'in_reply_to_user_id_x', 'retweeted_status_id', 'retweeted_status_user_id', \n",
    "                  'retweeted_status_timestamp', 'in_reply_to_status_id_y', 'in_reply_to_status_id_str', 'in_reply_to_user_id_y',\n",
    "                 'in_reply_to_user_id_str', 'in_reply_to_screen_name', 'geo', 'coordinates', 'place', 'contributors', 'retweeted_status', \n",
    "                   'quoted_status_id', 'quoted_status_id_str', 'quoted_status' ], axis =1, inplace = True)"
   ]
  },
  {
   "cell_type": "code",
   "execution_count": 49,
   "metadata": {},
   "outputs": [
    {
     "name": "stdout",
     "output_type": "stream",
     "text": [
      "<class 'pandas.core.frame.DataFrame'>\n",
      "Int64Index: 2073 entries, 0 to 2072\n",
      "Data columns (total 44 columns):\n",
      " #   Column                         Non-Null Count  Dtype  \n",
      "---  ------                         --------------  -----  \n",
      " 0   tweet_id                       2073 non-null   int64  \n",
      " 1   in_reply_to_status_id_x        23 non-null     float64\n",
      " 2   timestamp                      2073 non-null   object \n",
      " 3   source_x                       2073 non-null   object \n",
      " 4   text                           2073 non-null   object \n",
      " 5   expanded_urls                  2073 non-null   object \n",
      " 6   rating_numerator               2073 non-null   int64  \n",
      " 7   rating_denominator             2073 non-null   int64  \n",
      " 8   name                           2073 non-null   object \n",
      " 9   doggo                          2073 non-null   object \n",
      " 10  floofer                        2073 non-null   object \n",
      " 11  pupper                         2073 non-null   object \n",
      " 12  puppo                          2073 non-null   object \n",
      " 13  dog_stage                      2073 non-null   object \n",
      " 14  jpg_url                        2073 non-null   object \n",
      " 15  img_num                        2073 non-null   int64  \n",
      " 16  p1                             2073 non-null   object \n",
      " 17  p1_conf                        2073 non-null   float64\n",
      " 18  p1_dog                         2073 non-null   bool   \n",
      " 19  p2                             2073 non-null   object \n",
      " 20  p2_conf                        2073 non-null   float64\n",
      " 21  p2_dog                         2073 non-null   bool   \n",
      " 22  p3                             2073 non-null   object \n",
      " 23  p3_conf                        2073 non-null   float64\n",
      " 24  p3_dog                         2073 non-null   bool   \n",
      " 25  breed_dog                      1750 non-null   object \n",
      " 26  Unnamed: 0                     2073 non-null   int64  \n",
      " 27  created_at                     2073 non-null   object \n",
      " 28  id_str                         2073 non-null   int64  \n",
      " 29  full_text                      2073 non-null   object \n",
      " 30  truncated                      2073 non-null   bool   \n",
      " 31  display_text_range             2073 non-null   object \n",
      " 32  entities                       2073 non-null   object \n",
      " 33  extended_entities              2073 non-null   object \n",
      " 34  source_y                       2073 non-null   object \n",
      " 35  user                           2073 non-null   object \n",
      " 36  is_quote_status                2073 non-null   bool   \n",
      " 37  retweet_count                  2073 non-null   int64  \n",
      " 38  favorite_count                 2073 non-null   int64  \n",
      " 39  favorited                      2073 non-null   bool   \n",
      " 40  retweeted                      2073 non-null   bool   \n",
      " 41  possibly_sensitive             2073 non-null   float64\n",
      " 42  possibly_sensitive_appealable  2073 non-null   float64\n",
      " 43  lang                           2073 non-null   object \n",
      "dtypes: bool(7), float64(6), int64(8), object(23)\n",
      "memory usage: 629.6+ KB\n"
     ]
    }
   ],
   "source": [
    "twittermaster.info()"
   ]
  },
  {
   "cell_type": "code",
   "execution_count": 50,
   "metadata": {},
   "outputs": [
    {
     "name": "stdout",
     "output_type": "stream",
     "text": [
      "<class 'pandas.core.frame.DataFrame'>\n",
      "Int64Index: 2073 entries, 0 to 2072\n",
      "Data columns (total 44 columns):\n",
      " #   Column                         Non-Null Count  Dtype              \n",
      "---  ------                         --------------  -----              \n",
      " 0   tweet_id                       2073 non-null   int64              \n",
      " 1   in_reply_to_status_id_x        23 non-null     float64            \n",
      " 2   timestamp                      2073 non-null   datetime64[ns, UTC]\n",
      " 3   source_x                       2073 non-null   object             \n",
      " 4   text                           2073 non-null   object             \n",
      " 5   expanded_urls                  2073 non-null   object             \n",
      " 6   rating_numerator               2073 non-null   int64              \n",
      " 7   rating_denominator             2073 non-null   int64              \n",
      " 8   name                           2073 non-null   object             \n",
      " 9   doggo                          2073 non-null   object             \n",
      " 10  floofer                        2073 non-null   object             \n",
      " 11  pupper                         2073 non-null   object             \n",
      " 12  puppo                          2073 non-null   object             \n",
      " 13  dog_stage                      2073 non-null   object             \n",
      " 14  jpg_url                        2073 non-null   object             \n",
      " 15  img_num                        2073 non-null   int64              \n",
      " 16  p1                             2073 non-null   object             \n",
      " 17  p1_conf                        2073 non-null   float64            \n",
      " 18  p1_dog                         2073 non-null   bool               \n",
      " 19  p2                             2073 non-null   object             \n",
      " 20  p2_conf                        2073 non-null   float64            \n",
      " 21  p2_dog                         2073 non-null   bool               \n",
      " 22  p3                             2073 non-null   object             \n",
      " 23  p3_conf                        2073 non-null   float64            \n",
      " 24  p3_dog                         2073 non-null   bool               \n",
      " 25  breed_dog                      1750 non-null   object             \n",
      " 26  Unnamed: 0                     2073 non-null   int64              \n",
      " 27  created_at                     2073 non-null   object             \n",
      " 28  id_str                         2073 non-null   int64              \n",
      " 29  full_text                      2073 non-null   object             \n",
      " 30  truncated                      2073 non-null   bool               \n",
      " 31  display_text_range             2073 non-null   object             \n",
      " 32  entities                       2073 non-null   object             \n",
      " 33  extended_entities              2073 non-null   object             \n",
      " 34  source_y                       2073 non-null   object             \n",
      " 35  user                           2073 non-null   object             \n",
      " 36  is_quote_status                2073 non-null   bool               \n",
      " 37  retweet_count                  2073 non-null   int64              \n",
      " 38  favorite_count                 2073 non-null   int64              \n",
      " 39  favorited                      2073 non-null   bool               \n",
      " 40  retweeted                      2073 non-null   bool               \n",
      " 41  possibly_sensitive             2073 non-null   float64            \n",
      " 42  possibly_sensitive_appealable  2073 non-null   float64            \n",
      " 43  lang                           2073 non-null   object             \n",
      "dtypes: bool(7), datetime64[ns, UTC](1), float64(6), int64(8), object(22)\n",
      "memory usage: 629.6+ KB\n"
     ]
    }
   ],
   "source": [
    "twittermaster['timestamp'] = pd.to_datetime(twittermaster['timestamp'])\n",
    "twittermaster.info()"
   ]
  },
  {
   "cell_type": "code",
   "execution_count": 51,
   "metadata": {},
   "outputs": [
    {
     "name": "stdout",
     "output_type": "stream",
     "text": [
      "source_x\n",
      "<a href=\"http://twitter.com\" rel=\"nofollow\">Twitter Web Client</a>                       30\n",
      "<a href=\"http://twitter.com/download/iphone\" rel=\"nofollow\">Twitter for iPhone</a>     2032\n",
      "<a href=\"https://about.twitter.com/products/tweetdeck\" rel=\"nofollow\">TweetDeck</a>      11\n",
      "Name: tweet_id, dtype: int64\n"
     ]
    }
   ],
   "source": [
    "print(twittermaster.groupby('source_x')['tweet_id'].nunique())"
   ]
  },
  {
   "cell_type": "code",
   "execution_count": 52,
   "metadata": {},
   "outputs": [
    {
     "name": "stdout",
     "output_type": "stream",
     "text": [
      "<class 'pandas.core.frame.DataFrame'>\n",
      "Int64Index: 2073 entries, 0 to 2072\n",
      "Data columns (total 44 columns):\n",
      " #   Column                         Non-Null Count  Dtype              \n",
      "---  ------                         --------------  -----              \n",
      " 0   tweet_id                       2073 non-null   int64              \n",
      " 1   in_reply_to_status_id_x        23 non-null     float64            \n",
      " 2   timestamp                      2073 non-null   datetime64[ns, UTC]\n",
      " 3   source_x                       2073 non-null   object             \n",
      " 4   text                           2073 non-null   object             \n",
      " 5   expanded_urls                  2073 non-null   object             \n",
      " 6   rating_numerator               2073 non-null   int64              \n",
      " 7   rating                         2073 non-null   int64              \n",
      " 8   name                           2073 non-null   object             \n",
      " 9   doggo                          2073 non-null   object             \n",
      " 10  floofer                        2073 non-null   object             \n",
      " 11  pupper                         2073 non-null   object             \n",
      " 12  puppo                          2073 non-null   object             \n",
      " 13  dog_stage                      2073 non-null   object             \n",
      " 14  jpg_url                        2073 non-null   object             \n",
      " 15  img_num                        2073 non-null   int64              \n",
      " 16  p1                             2073 non-null   object             \n",
      " 17  p1_conf                        2073 non-null   float64            \n",
      " 18  p1_dog                         2073 non-null   bool               \n",
      " 19  p2                             2073 non-null   object             \n",
      " 20  p2_conf                        2073 non-null   float64            \n",
      " 21  p2_dog                         2073 non-null   bool               \n",
      " 22  p3                             2073 non-null   object             \n",
      " 23  p3_conf                        2073 non-null   float64            \n",
      " 24  p3_dog                         2073 non-null   bool               \n",
      " 25  breed_dog                      1750 non-null   object             \n",
      " 26  Unnamed: 0                     2073 non-null   int64              \n",
      " 27  created_at                     2073 non-null   object             \n",
      " 28  id_str                         2073 non-null   int64              \n",
      " 29  full_text                      2073 non-null   object             \n",
      " 30  truncated                      2073 non-null   bool               \n",
      " 31  display_text_range             2073 non-null   object             \n",
      " 32  entities                       2073 non-null   object             \n",
      " 33  extended_entities              2073 non-null   object             \n",
      " 34  source_y                       2073 non-null   object             \n",
      " 35  user                           2073 non-null   object             \n",
      " 36  is_quote_status                2073 non-null   bool               \n",
      " 37  retweet_count                  2073 non-null   int64              \n",
      " 38  favorite_count                 2073 non-null   int64              \n",
      " 39  favorited                      2073 non-null   bool               \n",
      " 40  retweeted                      2073 non-null   bool               \n",
      " 41  possibly_sensitive             2073 non-null   float64            \n",
      " 42  possibly_sensitive_appealable  2073 non-null   float64            \n",
      " 43  lang                           2073 non-null   object             \n",
      "dtypes: bool(7), datetime64[ns, UTC](1), float64(6), int64(8), object(22)\n",
      "memory usage: 629.6+ KB\n"
     ]
    }
   ],
   "source": [
    "twittermaster = twittermaster.rename({'rating_denominator':'rating'}, axis = 'columns')\n",
    "twittermaster.info()"
   ]
  },
  {
   "cell_type": "code",
   "execution_count": 53,
   "metadata": {},
   "outputs": [
    {
     "data": {
      "text/plain": [
       "0       2017\n",
       "1       2017\n",
       "2       2017\n",
       "3       2017\n",
       "4       2017\n",
       "        ... \n",
       "2068    2015\n",
       "2069    2015\n",
       "2070    2015\n",
       "2071    2015\n",
       "2072    2015\n",
       "Name: time, Length: 2073, dtype: int64"
      ]
     },
     "execution_count": 53,
     "metadata": {},
     "output_type": "execute_result"
    }
   ],
   "source": [
    "twittermaster['time'] = pd.to_datetime(twittermaster.created_at)\n",
    "twittermaster.time.dt.year"
   ]
  },
  {
   "cell_type": "markdown",
   "metadata": {},
   "source": [
    "### Analyse and visualization"
   ]
  },
  {
   "cell_type": "markdown",
   "metadata": {},
   "source": [
    "We analyze indicators such as retweet_count, favorite_count, retweeted.\n",
    "Based on them, we will look at the rating of dogs."
   ]
  },
  {
   "cell_type": "code",
   "execution_count": 54,
   "metadata": {},
   "outputs": [],
   "source": [
    "# convert timestamp to datetime\n",
    "twittermaster['timestamp'] = pd.to_datetime(twittermaster['timestamp'])\n",
    "\n",
    "#extract year, month and day to new columns\n",
    "twittermaster['year'] = twittermaster['timestamp'].dt.year\n",
    "twittermaster['month'] = twittermaster['timestamp'].dt.month\n",
    "twittermaster['day'] = twittermaster['timestamp'].dt.day"
   ]
  },
  {
   "cell_type": "code",
   "execution_count": 55,
   "metadata": {},
   "outputs": [
    {
     "data": {
      "text/html": [
       "<div>\n",
       "<style scoped>\n",
       "    .dataframe tbody tr th:only-of-type {\n",
       "        vertical-align: middle;\n",
       "    }\n",
       "\n",
       "    .dataframe tbody tr th {\n",
       "        vertical-align: top;\n",
       "    }\n",
       "\n",
       "    .dataframe thead th {\n",
       "        text-align: right;\n",
       "    }\n",
       "</style>\n",
       "<table border=\"1\" class=\"dataframe\">\n",
       "  <thead>\n",
       "    <tr style=\"text-align: right;\">\n",
       "      <th></th>\n",
       "      <th>tweet_id</th>\n",
       "      <th>in_reply_to_status_id_x</th>\n",
       "      <th>timestamp</th>\n",
       "      <th>source_x</th>\n",
       "      <th>text</th>\n",
       "      <th>expanded_urls</th>\n",
       "      <th>rating_numerator</th>\n",
       "      <th>rating</th>\n",
       "      <th>name</th>\n",
       "      <th>doggo</th>\n",
       "      <th>...</th>\n",
       "      <th>favorite_count</th>\n",
       "      <th>favorited</th>\n",
       "      <th>retweeted</th>\n",
       "      <th>possibly_sensitive</th>\n",
       "      <th>possibly_sensitive_appealable</th>\n",
       "      <th>lang</th>\n",
       "      <th>time</th>\n",
       "      <th>year</th>\n",
       "      <th>month</th>\n",
       "      <th>day</th>\n",
       "    </tr>\n",
       "  </thead>\n",
       "  <tbody>\n",
       "    <tr>\n",
       "      <th>0</th>\n",
       "      <td>892420643555336193</td>\n",
       "      <td>NaN</td>\n",
       "      <td>2017-08-01 16:23:56+00:00</td>\n",
       "      <td>&lt;a href=\"http://twitter.com/download/iphone\" r...</td>\n",
       "      <td>This is Phineas. He's a mystical boy. Only eve...</td>\n",
       "      <td>https://twitter.com/dog_rates/status/892420643...</td>\n",
       "      <td>13</td>\n",
       "      <td>10</td>\n",
       "      <td>Phineas</td>\n",
       "      <td></td>\n",
       "      <td>...</td>\n",
       "      <td>39467</td>\n",
       "      <td>False</td>\n",
       "      <td>False</td>\n",
       "      <td>0.0</td>\n",
       "      <td>0.0</td>\n",
       "      <td>en</td>\n",
       "      <td>2017-08-01 16:23:56+00:00</td>\n",
       "      <td>2017</td>\n",
       "      <td>8</td>\n",
       "      <td>1</td>\n",
       "    </tr>\n",
       "    <tr>\n",
       "      <th>1</th>\n",
       "      <td>892177421306343426</td>\n",
       "      <td>NaN</td>\n",
       "      <td>2017-08-01 00:17:27+00:00</td>\n",
       "      <td>&lt;a href=\"http://twitter.com/download/iphone\" r...</td>\n",
       "      <td>This is Tilly. She's just checking pup on you....</td>\n",
       "      <td>https://twitter.com/dog_rates/status/892177421...</td>\n",
       "      <td>13</td>\n",
       "      <td>10</td>\n",
       "      <td>Tilly</td>\n",
       "      <td></td>\n",
       "      <td>...</td>\n",
       "      <td>33819</td>\n",
       "      <td>False</td>\n",
       "      <td>False</td>\n",
       "      <td>0.0</td>\n",
       "      <td>0.0</td>\n",
       "      <td>en</td>\n",
       "      <td>2017-08-01 00:17:27+00:00</td>\n",
       "      <td>2017</td>\n",
       "      <td>8</td>\n",
       "      <td>1</td>\n",
       "    </tr>\n",
       "    <tr>\n",
       "      <th>2</th>\n",
       "      <td>891815181378084864</td>\n",
       "      <td>NaN</td>\n",
       "      <td>2017-07-31 00:18:03+00:00</td>\n",
       "      <td>&lt;a href=\"http://twitter.com/download/iphone\" r...</td>\n",
       "      <td>This is Archie. He is a rare Norwegian Pouncin...</td>\n",
       "      <td>https://twitter.com/dog_rates/status/891815181...</td>\n",
       "      <td>12</td>\n",
       "      <td>10</td>\n",
       "      <td>Archie</td>\n",
       "      <td></td>\n",
       "      <td>...</td>\n",
       "      <td>25461</td>\n",
       "      <td>False</td>\n",
       "      <td>False</td>\n",
       "      <td>0.0</td>\n",
       "      <td>0.0</td>\n",
       "      <td>en</td>\n",
       "      <td>2017-07-31 00:18:03+00:00</td>\n",
       "      <td>2017</td>\n",
       "      <td>7</td>\n",
       "      <td>31</td>\n",
       "    </tr>\n",
       "    <tr>\n",
       "      <th>3</th>\n",
       "      <td>891689557279858688</td>\n",
       "      <td>NaN</td>\n",
       "      <td>2017-07-30 15:58:51+00:00</td>\n",
       "      <td>&lt;a href=\"http://twitter.com/download/iphone\" r...</td>\n",
       "      <td>This is Darla. She commenced a snooze mid meal...</td>\n",
       "      <td>https://twitter.com/dog_rates/status/891689557...</td>\n",
       "      <td>13</td>\n",
       "      <td>10</td>\n",
       "      <td>Darla</td>\n",
       "      <td></td>\n",
       "      <td>...</td>\n",
       "      <td>42908</td>\n",
       "      <td>False</td>\n",
       "      <td>False</td>\n",
       "      <td>0.0</td>\n",
       "      <td>0.0</td>\n",
       "      <td>en</td>\n",
       "      <td>2017-07-30 15:58:51+00:00</td>\n",
       "      <td>2017</td>\n",
       "      <td>7</td>\n",
       "      <td>30</td>\n",
       "    </tr>\n",
       "    <tr>\n",
       "      <th>4</th>\n",
       "      <td>891327558926688256</td>\n",
       "      <td>NaN</td>\n",
       "      <td>2017-07-29 16:00:24+00:00</td>\n",
       "      <td>&lt;a href=\"http://twitter.com/download/iphone\" r...</td>\n",
       "      <td>This is Franklin. He would like you to stop ca...</td>\n",
       "      <td>https://twitter.com/dog_rates/status/891327558...</td>\n",
       "      <td>12</td>\n",
       "      <td>10</td>\n",
       "      <td>Franklin</td>\n",
       "      <td></td>\n",
       "      <td>...</td>\n",
       "      <td>41048</td>\n",
       "      <td>False</td>\n",
       "      <td>False</td>\n",
       "      <td>0.0</td>\n",
       "      <td>0.0</td>\n",
       "      <td>en</td>\n",
       "      <td>2017-07-29 16:00:24+00:00</td>\n",
       "      <td>2017</td>\n",
       "      <td>7</td>\n",
       "      <td>29</td>\n",
       "    </tr>\n",
       "  </tbody>\n",
       "</table>\n",
       "<p>5 rows × 48 columns</p>\n",
       "</div>"
      ],
      "text/plain": [
       "             tweet_id  in_reply_to_status_id_x                 timestamp  \\\n",
       "0  892420643555336193                      NaN 2017-08-01 16:23:56+00:00   \n",
       "1  892177421306343426                      NaN 2017-08-01 00:17:27+00:00   \n",
       "2  891815181378084864                      NaN 2017-07-31 00:18:03+00:00   \n",
       "3  891689557279858688                      NaN 2017-07-30 15:58:51+00:00   \n",
       "4  891327558926688256                      NaN 2017-07-29 16:00:24+00:00   \n",
       "\n",
       "                                            source_x  \\\n",
       "0  <a href=\"http://twitter.com/download/iphone\" r...   \n",
       "1  <a href=\"http://twitter.com/download/iphone\" r...   \n",
       "2  <a href=\"http://twitter.com/download/iphone\" r...   \n",
       "3  <a href=\"http://twitter.com/download/iphone\" r...   \n",
       "4  <a href=\"http://twitter.com/download/iphone\" r...   \n",
       "\n",
       "                                                text  \\\n",
       "0  This is Phineas. He's a mystical boy. Only eve...   \n",
       "1  This is Tilly. She's just checking pup on you....   \n",
       "2  This is Archie. He is a rare Norwegian Pouncin...   \n",
       "3  This is Darla. She commenced a snooze mid meal...   \n",
       "4  This is Franklin. He would like you to stop ca...   \n",
       "\n",
       "                                       expanded_urls  rating_numerator  \\\n",
       "0  https://twitter.com/dog_rates/status/892420643...                13   \n",
       "1  https://twitter.com/dog_rates/status/892177421...                13   \n",
       "2  https://twitter.com/dog_rates/status/891815181...                12   \n",
       "3  https://twitter.com/dog_rates/status/891689557...                13   \n",
       "4  https://twitter.com/dog_rates/status/891327558...                12   \n",
       "\n",
       "   rating      name doggo  ... favorite_count favorited retweeted  \\\n",
       "0      10   Phineas        ...          39467     False     False   \n",
       "1      10     Tilly        ...          33819     False     False   \n",
       "2      10    Archie        ...          25461     False     False   \n",
       "3      10     Darla        ...          42908     False     False   \n",
       "4      10  Franklin        ...          41048     False     False   \n",
       "\n",
       "  possibly_sensitive possibly_sensitive_appealable  lang  \\\n",
       "0                0.0                           0.0    en   \n",
       "1                0.0                           0.0    en   \n",
       "2                0.0                           0.0    en   \n",
       "3                0.0                           0.0    en   \n",
       "4                0.0                           0.0    en   \n",
       "\n",
       "                       time  year  month day  \n",
       "0 2017-08-01 16:23:56+00:00  2017      8   1  \n",
       "1 2017-08-01 00:17:27+00:00  2017      8   1  \n",
       "2 2017-07-31 00:18:03+00:00  2017      7  31  \n",
       "3 2017-07-30 15:58:51+00:00  2017      7  30  \n",
       "4 2017-07-29 16:00:24+00:00  2017      7  29  \n",
       "\n",
       "[5 rows x 48 columns]"
      ]
     },
     "execution_count": 55,
     "metadata": {},
     "output_type": "execute_result"
    }
   ],
   "source": [
    "twittermaster.head(5)"
   ]
  },
  {
   "cell_type": "code",
   "execution_count": 56,
   "metadata": {},
   "outputs": [
    {
     "data": {
      "image/png": "[encoded data removed]",
      "text/plain": [
       "<Figure size 432x288 with 1 Axes>"
      ]
     },
     "metadata": {
      "needs_background": "light"
     },
     "output_type": "display_data"
    }
   ],
   "source": [
    "# Distribution by month of retweet by dog breed\n",
    "plt.plot(twittermaster.month, twittermaster.favorite_count )\n",
    "plt.plot(twittermaster.month, twittermaster.retweet_count, 'o' )\n",
    "plt.legend(['favorite_count', 'retweet_count'])\n",
    "plt.xlabel('month')\n",
    "plt.ylabel('Counts')\n",
    "plt.xlim(1, 12);\n",
    "plt.show()"
   ]
  },
  {
   "cell_type": "markdown",
   "metadata": {},
   "source": [
    "Retweets for dog breeds were higher in May, June, and December than the monthly distribution"
   ]
  },
  {
   "cell_type": "code",
   "execution_count": 57,
   "metadata": {},
   "outputs": [
    {
     "data": {
      "text/plain": [
       "Text(0.5, 1.0, 'Count of dogs over the years')"
      ]
     },
     "execution_count": 57,
     "metadata": {},
     "output_type": "execute_result"
    },
    {
     "data": {
      "image/png": "[encoded data removed]",
      "text/plain": [
       "<Figure size 432x288 with 1 Axes>"
      ]
     },
     "metadata": {},
     "output_type": "display_data"
    }
   ],
   "source": [
    "# Count of dogs over the years\n",
    "twittermaster.time.dt.year\n",
    "twittermaster.time.dt.year.value_counts().plot(kind='pie')\n",
    "plt.title('Count of dogs over the years')"
   ]
  },
  {
   "cell_type": "code",
   "execution_count": 58,
   "metadata": {},
   "outputs": [
    {
     "name": "stdout",
     "output_type": "stream",
     "text": [
      "tweet_id                         2073\n",
      "in_reply_to_status_id_x            23\n",
      "timestamp                        2073\n",
      "source_x                         2073\n",
      "text                             2073\n",
      "expanded_urls                    2073\n",
      "rating_numerator                 2073\n",
      "rating                           2073\n",
      "name                             2073\n",
      "doggo                            2073\n",
      "floofer                          2073\n",
      "pupper                           2073\n",
      "puppo                            2073\n",
      "dog_stage                        2073\n",
      "jpg_url                          2073\n",
      "img_num                          2073\n",
      "p1                               2073\n",
      "p1_conf                          2073\n",
      "p1_dog                           2073\n",
      "p2                               2073\n",
      "p2_conf                          2073\n",
      "p2_dog                           2073\n",
      "p3                               2073\n",
      "p3_conf                          2073\n",
      "p3_dog                           2073\n",
      "breed_dog                        1750\n",
      "Unnamed: 0                       2073\n",
      "created_at                       2073\n",
      "id_str                           2073\n",
      "full_text                        2073\n",
      "truncated                        2073\n",
      "display_text_range               2073\n",
      "entities                         2073\n",
      "extended_entities                2073\n",
      "source_y                         2073\n",
      "user                             2073\n",
      "is_quote_status                  2073\n",
      "retweet_count                    2073\n",
      "favorite_count                   2073\n",
      "favorited                        2073\n",
      "retweeted                        2073\n",
      "possibly_sensitive               2073\n",
      "possibly_sensitive_appealable    2073\n",
      "lang                             2073\n",
      "time                             2073\n",
      "year                             2073\n",
      "month                            2073\n",
      "day                              2073\n",
      "dtype: int64\n"
     ]
    }
   ],
   "source": [
    "print(twittermaster[(twittermaster.dog_stage !='None')].count())"
   ]
  },
  {
   "cell_type": "code",
   "execution_count": 59,
   "metadata": {},
   "outputs": [],
   "source": [
    "v0=twittermaster[(twittermaster.name !='None') & (twittermaster.name !='a')]"
   ]
  },
  {
   "cell_type": "code",
   "execution_count": 60,
   "metadata": {},
   "outputs": [
    {
     "data": {
      "image/png": "[encoded data removed]",
      "text/plain": [
       "<Figure size 720x576 with 1 Axes>"
      ]
     },
     "metadata": {
      "needs_background": "light"
     },
     "output_type": "display_data"
    }
   ],
   "source": [
    "# Plot the top 10 Dog names by frequency\n",
    "plt.figure(figsize=(10, 8))\n",
    "v0.name.value_counts().nlargest(20).plot(kind = 'barh', color =  'b');\n",
    "plt.title('Dog Name Frequency');\n",
    "plt.xlabel('Frequency');\n",
    "plt.ylabel('Dog Name');\n",
    "plt.xlim(1, 12);"
   ]
  },
  {
   "cell_type": "code",
   "execution_count": 61,
   "metadata": {},
   "outputs": [],
   "source": [
    "# view dog stage \n",
    "v1=twittermaster[(twittermaster.dog_stage !='') & (twittermaster.name !='None')]"
   ]
  },
  {
   "cell_type": "code",
   "execution_count": 62,
   "metadata": {},
   "outputs": [
    {
     "data": {
      "image/png": "[encoded data removed]",
      "text/plain": [
       "<Figure size 576x432 with 1 Axes>"
      ]
     },
     "metadata": {
      "needs_background": "light"
     },
     "output_type": "display_data"
    }
   ],
   "source": [
    "# Plot the top 10  dog stages\n",
    "plt.figure(figsize=(8, 6))\n",
    "v1.dog_stage.value_counts().nlargest(10).plot(kind = 'bar', color =  'g');\n",
    "plt.title('Dog stages');\n",
    "plt.xlabel('dog stage');\n",
    "plt.ylabel('Type Dog stage');"
   ]
  },
  {
   "cell_type": "code",
   "execution_count": 63,
   "metadata": {},
   "outputs": [
    {
     "data": {
      "text/plain": [
       "golden_retriever        173\n",
       "Labrador_retriever      113\n",
       "Pembroke                 95\n",
       "Chihuahua                95\n",
       "pug                      65\n",
       "                       ... \n",
       "Japanese_spaniel          1\n",
       "silky_terrier             1\n",
       "Bouvier_des_Flandres      1\n",
       "EntleBucher               1\n",
       "Irish_wolfhound           1\n",
       "Name: breed_dog, Length: 113, dtype: int64"
      ]
     },
     "execution_count": 63,
     "metadata": {},
     "output_type": "execute_result"
    }
   ],
   "source": [
    "twittermaster.breed_dog.value_counts()"
   ]
  },
  {
   "cell_type": "code",
   "execution_count": 64,
   "metadata": {},
   "outputs": [
    {
     "data": {
      "image/png": "[encoded data removed]",
      "text/plain": [
       "<Figure size 432x288 with 1 Axes>"
      ]
     },
     "metadata": {
      "needs_background": "light"
     },
     "output_type": "display_data"
    },
    {
     "data": {
      "text/plain": [
       "<Figure size 720x360 with 0 Axes>"
      ]
     },
     "metadata": {},
     "output_type": "display_data"
    }
   ],
   "source": [
    "# Ratings on dog breeds for retweet_count.\n",
    "twittermaster.groupby('breed_dog')['retweet_count'].mean().sort_values(ascending=False).nlargest(10).plot.bar(x='breed_dog', y = 'retweet_count')\n",
    "plt.figure(figsize=(10, 5))\n",
    "#twittermaster.breed_dog.value_counts().nlargest(20).plot.bar(x='breed_dog', y = 'retweet_count')\n",
    "plt.style.use('ggplot')\n",
    "\n",
    "#plt.style.available"
   ]
  },
  {
   "cell_type": "markdown",
   "metadata": {},
   "source": [
    "##### Highly retweeted dog breeds such as standard_poodle 8569, Bedlington_terrier (7510, Afghan_hound (7163)"
   ]
  },
  {
   "cell_type": "code",
   "execution_count": 65,
   "metadata": {},
   "outputs": [
    {
     "data": {
      "text/plain": [
       "<AxesSubplot:>"
      ]
     },
     "execution_count": 65,
     "metadata": {},
     "output_type": "execute_result"
    },
    {
     "data": {
      "image/png": "[encoded data removed]",
      "text/plain": [
       "<Figure size 432x288 with 1 Axes>"
      ]
     },
     "metadata": {},
     "output_type": "display_data"
    }
   ],
   "source": [
    "# Visualization source \n",
    "twittermaster.source_x.value_counts().plot(kind='bar')"
   ]
  },
  {
   "cell_type": "code",
   "execution_count": 66,
   "metadata": {},
   "outputs": [
    {
     "data": {
      "image/png": "[encoded data removed]",
      "text/plain": [
       "<Figure size 720x576 with 2 Axes>"
      ]
     },
     "metadata": {},
     "output_type": "display_data"
    }
   ],
   "source": [
    "g,ax = plt.subplots(figsize=(10, 8))\n",
    "sb.heatmap(twittermaster[['rating_numerator', 'favorite_count', 'retweet_count']].corr(), annot=True, linewidths=.4)\n",
    "plt.title('Correlation Matrix');"
   ]
  },
  {
   "cell_type": "markdown",
   "metadata": {},
   "source": [
    "The above dogs can be seen from the data as long as the number of tweets and favorites are related"
   ]
  }
 ],
 "metadata": {
  "kernelspec": {
   "display_name": "Python 3",
   "language": "python",
   "name": "python3"
  },
  "language_info": {
   "codemirror_mode": {
    "name": "ipython",
    "version": 3
   },
   "file_extension": ".py",
   "mimetype": "text/x-python",
   "name": "python",
   "nbconvert_exporter": "python",
   "pygments_lexer": "ipython3",
   "version": "3.8.5"
  }
 },
 "nbformat": 4,
 "nbformat_minor": 2
}
